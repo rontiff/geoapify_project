


# Dependencies and Setup
import matplotlib.pyplot as plt
import pandas as pd
import numpy as np
import requests
import time
from scipy.stats import linregress

# Impor the OpenWeatherMap API key
from api_keys import weather_api_key

# Import citipy to determine the cities based on latitude and longitude
from citipy import citipy





city = 'London'
params = {
    'q': city,
    'appid': weather_api_key
}
url = 'https://api.openweathermap.org/data/2.5/weather'

response = requests.get(url, params=params)
data = response.json()
print(data)


# Empty list for holding the latitude and longitude combinations
lat_lngs = []

# Empty list for holding the cities names
cities = []

# Range of latitudes and longitudes
lat_range = (-90, 90)
lng_range = (-180, 180)

# Create a set of random lat and lng combinations
lats = np.random.uniform(lat_range[0], lat_range[1], size=1500)
lngs = np.random.uniform(lng_range[0], lng_range[1], size=1500)
lat_lngs = zip(lats, lngs)

# Identify nearest city for each lat, lng combination
for lat_lng in lat_lngs:
    city = citipy.nearest_city(lat_lng[0], lat_lng[1]).city_name
    
    # If the city is unique, then add it to a our cities list
    if city not in cities:
        cities.append(city)

# Print the city count to confirm sufficient count
print(f"Number of cities in the list: {len(cities)}")








# url = 'https://api.openweathermap.org/data/2.5/weather?'
# city = 'london'
# city_url = f"{url}appid={weather_api_key}&q={city}&units=metric"


# data = requests.get(city_url).json()
# data


# Set the API base URL
url = 'https://api.openweathermap.org/data/2.5/weather?'


# Define an empty list to fetch the weather data for each city
city_data = []

# Print to logger
print("Beginning Data Retrieval     ")
print("-----------------------------")

# Create counters
record_count = 1
set_count = 1

# Loop through all the cities in our list to fetch weather data
for i, city in enumerate(cities):
        
    # Group cities in sets of 50 for logging purposes
    if (i % 50 == 0 and i >= 50):
        set_count += 1
        record_count = 0

    # Create endpoint URL with each city
    # city_url = f"{url}appid={weather_api_key}&units=metric&q={city}"
    city_url = f"{url}appid={weather_api_key}&q={city}&units=metric"
    
    # Log the url, record, and set numbers
    print("Processing Record %s of Set %s | %s" % (record_count, set_count, city))

    # Add 1 to the record count
    record_count += 1

    # Run an API request for each of the cities
    try:
        # Parse the JSON and retrieve data
        city_weather = requests.get(city_url).json()

        # Parse out latitude, longitude, max temp, humidity, cloudiness, wind speed, country, and date

        # print out the data[0] and view it.
        city_lat = city_weather['coord']['lat']
        city_lng = city_weather['coord']['lon']
        city_max_temp = city_weather['main']['temp_max']
        city_humidity = city_weather['main']['humidity']
        city_clouds = city_weather['clouds']['all']
        city_wind = city_weather['wind']['speed']
        city_country = city_weather['sys']['country']
        city_date = city_weather['dt']

        # Append the City information into city_data list
        city_data.append({"City": city, 
                          "Lat": city_lat, 
                          "Lng": city_lng, 
                          "Max Temp": city_max_temp,
                          "Humidity": city_humidity,
                          "Cloudiness": city_clouds,
                          "Wind Speed": city_wind,
                          "Country": city_country,
                          "Date": city_date})

    # If an error is experienced, skip the city
    except:
        print("City not found. Skipping...")
        pass
              
# Indicate that Data Loading is complete 
print("-----------------------------")
print("Data Retrieval Complete      ")
print("-----------------------------")





# Convert the cities weather data into a Pandas DataFrame
city_data_df = pd.DataFrame(city_data)

# Show Record Count
city_data_df.count()


# Display sample data
city_data_df.head()


# Export the City_Data into a csv
city_data_df.to_csv("output_data/cities.csv", index_label="City_ID")


# Read saved data
city_data_df = pd.read_csv("output_data/cities.csv", index_col="City_ID")

# Display sample data
city_data_df.head()





# Build scatter plot for latitude vs. temperature
x = city_data_df['Lat']
y = city_data_df['Max Temp']

# Incorporate the other graph properties
plt.scatter(
    x=x,
    y=y
)

# Step 4: add title and labels
plt.title('City Max Latitude vs. Temperature (2024-03-24)')
plt.xlabel('Latitude')
plt.ylabel('Max Temperature (C)')

# Save the figure
plt.savefig("output_data/Fig1.png")


# Show plot
plt.show()





# Build the scatter plots for latitude vs. humidity
x = city_data_df['Lat']
y = city_data_df['Humidity']

# Incorporate the other graph properties
plt.scatter(
    x=x,
    y=y
)

plt.title('City Max Latitude vs. Humidity (2024-03-24)')
plt.xlabel('Latitude')
plt.ylabel('Humidity (%)')

# Save the figure
plt.savefig("output_data/Fig2.png")


# Show plot
plt.show()





# Build the scatter plots for latitude vs. cloudiness
x = city_data_df['Lat']
y = city_data_df['Cloudiness']

# Incorporate the other graph properties
plt.scatter(
    x=x,
    y=y
)

plt.title('City Max Latitude vs. Cloudiness (2024-03-24)')
plt.xlabel('Latitude')
plt.ylabel('Cloudiness (%)')

# Save the figure
plt.savefig("output_data/Fig3.png")


# Show plot
plt.show()





# Build the scatter plots for latitude vs. wind speed
x = city_data_df['Lat']
y = city_data_df['Wind Speed']


# Incorporate the other graph properties
plt.scatter(
    x=x,
    y=y
)

plt.title('City Max Latitude vs. wind speed (2024-03-24)')
plt.xlabel('Latitude')
plt.ylabel('wind speed (m/s)')


# Save the figure
plt.savefig("output_data/Fig4.png")


# Show plot
plt.show()





# Define a function to create Linear Regression plots
def plot_linear_regression(x_values, y_values, xlabel, ylabel, title):
    # Perform linear regression
    slope, intercept, rvalue, pvalue, stderr = linregress(x_values, y_values)

    # y= mx + c 
    regress_values = x_values * slope + intercept
    line_eq = f'y = {slope:.2f}x + {intercept:.2f}\nR² = {rvalue**2:.2f}'

    # Plot
    plt.scatter(x_values, y_values)
    plt.plot(x_values, regress_values, "r-")
    plt.annotate(line_eq, (min(x_values), min(y_values)), fontsize=12, color="red")
    plt.xlabel(xlabel)
    plt.ylabel(ylabel)
    plt.title(title)
    plt.grid(True)
    plt.show()
    return rvalue**2


# Create a DataFrame with the Northern Hemisphere data (Latitude >= 0)
filt_NH=city_data_df.loc[city_data_df['Lat']>=0]
northern_hemi_df=pd.DataFrame(filt_NH)

# Display sample data
northern_hemi_df.head()


# Create a DataFrame with the Southern Hemisphere data (Latitude < 0)
filt_SH=city_data_df.loc[city_data_df['Lat']<0]
southern_hemi_df=pd.DataFrame(filt_SH)

# Display sample data
southern_hemi_df.head()





# Linear regression on Northern Hemisphere
rvalue = plot_linear_regression(northern_hemi_df["Lat"], northern_hemi_df["Max Temp"], 'Latitude', 'Max Temp','Max Temp and Latitude in Northern Hemisphere Linear Regression Plot')
# print("The r-value is:", rvalue)
plt.show()


# Linear regression on Southern Hemisphere
rvalue = plot_linear_regression(southern_hemi_df["Lat"], southern_hemi_df["Max Temp"], 'Latitude', 'Max Temp','Max Temp and Latitude in Southern Hemisphere Linear Regression Plot')
print("The r-value is:", rvalue)
plt.show()











# Northern Hemisphere
rvalue = plot_linear_regression(northern_hemi_df["Lat"], northern_hemi_df["Humidity"], 'Latitude', 'Humidity','Humidity and Latitude in Northern Hemisphere Linear Regression Plot')
print("The r-value is:", rvalue)
plt.show()


# Southern Hemisphere
rvalue = plot_linear_regression(southern_hemi_df["Lat"], southern_hemi_df["Humidity"], 'Latitude', 'Humidity','Humidity and Latitude in Southern Hemisphere Linear Regression Plot')
print("The r-value is:", rvalue)
plt.show()








# Northern Hemisphere
rvalue = plot_linear_regression(northern_hemi_df["Lat"], northern_hemi_df["Cloudiness"], 'Latitude', 'Cloudiness','Cloudiness and Latitude in Northern Hemisphere Linear Regression Plot')
print("The r-value is:", rvalue)
plt.show()


# Southern Hemisphere
rvalue = plot_linear_regression(southern_hemi_df["Lat"], southern_hemi_df["Cloudiness"], 'Latitude', 'Cloudiness','Cloudiness and Latitude in Southern Hemisphere Linear Regression Plot')
print("The r-value is:", rvalue)
plt.show()









# Northern Hemisphere
rvalue = plot_linear_regression(northern_hemi_df["Lat"], northern_hemi_df["Wind Speed"], 'Latitude', 'Wind Speed (m/s)','Wind Speed and Latitude in Northern Hemisphere Linear Regression Plot')
print("The r-value is:", rvalue)
plt.show()



# Southern Hemisphere
rvalue = plot_linear_regression(southern_hemi_df["Lat"], southern_hemi_df["Wind Speed"], 'Latitude', 'Wind Speed (m/s)','Wind Speed and Latitude in Southern Hemisphere Linear Regression Plot')
print("The r-value is:", rvalue)
plt.show()







